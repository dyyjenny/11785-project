{
 "cells": [
  {
   "cell_type": "code",
   "execution_count": 20,
   "metadata": {},
   "outputs": [],
   "source": [
    "import numpy as np\n",
    "import csv\n",
    "\n",
    "# Use biopython library to process fasta files\n",
    "from Bio import SeqIO"
   ]
  },
  {
   "cell_type": "code",
   "execution_count": 21,
   "metadata": {},
   "outputs": [],
   "source": [
    "# Process each fasta sample from a given file into a dictionary\n",
    "# The key is the EPI_ISL_ID, the value is a dictionary with metadata and the protein sequence\n",
    "\n",
    "def parse_fasta(fasta_filename):\n",
    "    fasta_entries = SeqIO.parse(fasta_filename, \"fasta\")\n",
    "    fasta_samples = {}\n",
    "    \n",
    "    for entry in fasta_entries:\n",
    "        metadata_list = entry.description.split(\"|\")\n",
    "        protein_sequence = str(entry.seq)\n",
    "\n",
    "        # Account for rows with missing data\n",
    "        while len(metadata_list) < 11:\n",
    "            metadata_list.append(\"\")\n",
    "\n",
    "        # Remove \"hCoV-19/\" prefix and remove spaces from fasta strain\n",
    "        strain = metadata_list[1]\n",
    "        if strain[:8] == \"hCoV-19/\":\n",
    "            strain = strain[8:]\n",
    "        strain = strain.replace(\" \", \"\")\n",
    "\n",
    "        # Create dictionary from entry\n",
    "        sample = {\n",
    "            \"Strain\": strain,\n",
    "            \"Submission Date\": metadata_list[2],\n",
    "            \"EPI_ISL\": metadata_list[3],\n",
    "            \"Division of Exposure\": metadata_list[5],\n",
    "            \"Originating Lab\": metadata_list[7],\n",
    "            \"Submitting Lab\": metadata_list[8],\n",
    "            \"Author\": metadata_list[9],\n",
    "            \"Country of Exposure\": metadata_list[10],\n",
    "            \"Sequence\": protein_sequence,\n",
    "        }\n",
    "\n",
    "        # Add sample to fasta_samples\n",
    "        epi_isl = metadata_list[3]\n",
    "        assert(epi_isl[:7] == \"EPI_ISL\")\n",
    "        fasta_samples[epi_isl] = sample\n",
    "        \n",
    "    return fasta_samples"
   ]
  },
  {
   "cell_type": "code",
   "execution_count": 22,
   "metadata": {},
   "outputs": [],
   "source": [
    "# Process nextstrain global metadata from a given file into a dictionary\n",
    "# The key is EPI_ISL_ID, the value is a dictionary with global metadata\n",
    "\n",
    "def parse_nextstrain_metadata(metadata_filename):\n",
    "    metadata_samples = {}\n",
    "    \n",
    "    with open(metadata_filename, \"r\") as f:\n",
    "        tsv_reader = csv.reader(f, delimiter=\"\\t\", quoting=csv.QUOTE_NONE)\n",
    "        header = next(tsv_reader)\n",
    "\n",
    "        for row in tsv_reader:\n",
    "            # Create dictionary from row\n",
    "            sample = {}\n",
    "            for i in range(len(row)):\n",
    "                sample[header[i]] = row[i]\n",
    "\n",
    "            # Add sample to metadata_samples\n",
    "            epi_isl = row[10]\n",
    "            assert(epi_isl[:7] == \"EPI_ISL\")\n",
    "            metadata_samples[epi_isl] = sample\n",
    "            \n",
    "    return metadata_samples"
   ]
  },
  {
   "cell_type": "code",
   "execution_count": 23,
   "metadata": {},
   "outputs": [],
   "source": [
    "# Process GISAID metadata from a given file into a dictionary\n",
    "# The key is EPI_ISL_ID, the value is a dictionary with GISAID metadata\n",
    "\n",
    "def parse_gisaid_metadata(metadata_filename):\n",
    "    metadata_samples = {}\n",
    "    \n",
    "    with open(metadata_filename, \"r\") as f:\n",
    "        tsv_reader = csv.reader(f, delimiter=\"\\t\", quoting=csv.QUOTE_NONE)\n",
    "        header = next(tsv_reader)\n",
    "        \n",
    "        for row in tsv_reader:\n",
    "            # Remove \"hCoV-19/\" prefix and remove spaces from strain name\n",
    "            if row[0][:8] == \"hCoV-19/\":\n",
    "                row[0] = row[0][8:]\n",
    "            row[0] = row[0].replace(\" \", \"\")\n",
    "            \n",
    "            # Create dictionary from row\n",
    "            sample = {}\n",
    "            for i in range(len(row)):\n",
    "                sample[header[i]] = row[i]\n",
    "                \n",
    "            # Add sample to metadata_samples\n",
    "            epi_isl = row[2]\n",
    "            assert(epi_isl[:7] == \"EPI_ISL\")\n",
    "            metadata_samples[epi_isl] = sample\n",
    "            \n",
    "    return metadata_samples"
   ]
  },
  {
   "cell_type": "code",
   "execution_count": 24,
   "metadata": {},
   "outputs": [],
   "source": [
    "# Separate nextstrain global timetree data into a tree structure, and an array of timetree entries\n",
    "# Then, process global timetree entries into a dictionary\n",
    "# The key is the strain, the value is a dictionary with timetree metadata\n",
    "\n",
    "def parse_timetree(timetree_filename):\n",
    "    with open(timetree_filename, \"r\") as f:\n",
    "        timetree_str = f.read()\n",
    "        timetree_str = timetree_str[33:-6] # Remove start and end\n",
    "        \n",
    "    # Separate timetree data into a tree structure, and array of timetree entries\n",
    "    tree_structure = []\n",
    "    timetree_entries = []\n",
    "    entry_start_idx = 0\n",
    "    \n",
    "    in_strain_name = False\n",
    "    in_description = False\n",
    "    in_tree_length = False\n",
    "\n",
    "    for (i, char) in enumerate(timetree_str):\n",
    "        # Advance parser state, keeping track of when each tree entry starts and ends\n",
    "        # Parser state advances from none -> in_strain_name -> in_description -> in_tree_length\n",
    "        # Separately keep track of the tree structure, using each entry's index in timetree_entries\n",
    "        if in_strain_name:\n",
    "            if char == '[':\n",
    "                in_strain_name = False\n",
    "                in_description = True\n",
    "\n",
    "        elif in_description:\n",
    "            if char == ']':\n",
    "                in_description = False\n",
    "                in_tree_length = True\n",
    "\n",
    "        elif in_tree_length:\n",
    "            if not char.isdigit() and char != ':' and char != '.':\n",
    "                in_tree_length = False\n",
    "                timetree_entries.append(timetree_str[entry_start_idx:i])\n",
    "\n",
    "                tree_structure.append(str(len(timetree_entries)))\n",
    "                tree_structure.append(char)\n",
    "\n",
    "        else:\n",
    "            if char != ',' and char != '(' and char != ')':\n",
    "                in_strain_name = True\n",
    "                entry_start_idx = i\n",
    "            else:\n",
    "                tree_structure.append(char)\n",
    "\n",
    "    tree_structure = \"\".join(tree_structure)\n",
    "    \n",
    "    # Parse timetree entries into a dictionary\n",
    "    timetree_samples = {}\n",
    "    \n",
    "    for (timetree_id, entry) in enumerate(timetree_entries):\n",
    "        (strain, entry) = entry.split(\"[&\")\n",
    "        (entry, path_length) = entry.split(\"]:\")\n",
    "        tokens = entry.split(\",\")\n",
    "\n",
    "        # Create dictionary from entry\n",
    "        sample = {\n",
    "            \"strain\": strain,\n",
    "            \"path_length\": path_length,\n",
    "            \"timetree_id\": timetree_id,\n",
    "        }\n",
    "        for token in tokens:\n",
    "            try:\n",
    "                (name, value) = token.split(\"=\")\n",
    "                sample[name] = value\n",
    "            except ValueError:\n",
    "                # Handle comma within num_date_CI\n",
    "                sample[\"num_date_CI\"] += \",\" + token\n",
    "\n",
    "        # Add sample to timetree_samples\n",
    "        timetree_samples[strain] = sample\n",
    "        \n",
    "    return (timetree_samples, tree_structure)"
   ]
  },
  {
   "cell_type": "code",
   "execution_count": 25,
   "metadata": {
    "scrolled": true
   },
   "outputs": [
    {
     "name": "stdout",
     "output_type": "stream",
     "text": [
      "Number of FASTA entries:  702408\n",
      "\n",
      "Example FASTA entry: \n",
      "{'Strain': 'Wuhan/WIV04/2019', 'Submission Date': '2019-12-30', 'EPI_ISL': 'EPI_ISL_402124', 'Division of Exposure': 'hCoV-19^^Hubei', 'Originating Lab': 'Wuhan Jinyintan Hospital', 'Submitting Lab': 'Wuhan Institute of Virology', 'Author': 'Shi', 'Country of Exposure': 'China', 'Sequence': 'MFVFLVLLPLVSSQCVNLTTRTQLPPAYTNSFTRGVYYPDKVFRSSVLHSTQDLFLPFFSNVTWFHAIHVSGTNGTKRFDNPVLPFNDGVYFASTEKSNIIRGWIFGTTLDSKTQSLLIVNNATNVVIKVCEFQFCNDPFLGVYYHKNNKSWMESEFRVYSSANNCTFEYVSQPFLMDLEGKQGNFKNLREFVFKNIDGYFKIYSKHTPINLVRDLPQGFSALEPLVDLPIGINITRFQTLLALHRSYLTPGDSSSGWTAGAAAYYVGYLQPRTFLLKYNENGTITDAVDCALDPLSETKCTLKSFTVEKGIYQTSNFRVQPTESIVRFPNITNLCPFGEVFNATRFASVYAWNRKRISNCVADYSVLYNSASFSTFKCYGVSPTKLNDLCFTNVYADSFVIRGDEVRQIAPGQTGKIADYNYKLPDDFTGCVIAWNSNNLDSKVGGNYNYLYRLFRKSNLKPFERDISTEIYQAGSTPCNGVEGFNCYFPLQSYGFQPTNGVGYQPYRVVVLSFELLHAPATVCGPKKSTNLVKNKCVNFNFNGLTGTGVLTESNKKFLPFQQFGRDIADTTDAVRDPQTLEILDITPCSFGGVSVITPGTNTSNQVAVLYQDVNCTEVPVAIHADQLTPTWRVYSTGSNVFQTRAGCLIGAEHVNNSYECDIPIGAGICASYQTQTNSPRRARSVASQSIIAYTMSLGAENSVAYSNNSIAIPTNFTISVTTEILPVSMTKTSVDCTMYICGDSTECSNLLLQYGSFCTQLNRALTGIAVEQDKNTQEVFAQVKQIYKTPPIKDFGGFNFSQILPDPSKPSKRSFIEDLLFNKVTLADAGFIKQYGDCLGDIAARDLICAQKFNGLTVLPPLLTDEMIAQYTSALLAGTITSGWTFGAGAALQIPFAMQMAYRFNGIGVTQNVLYENQKLIANQFNSAIGKIQDSLSSTASALGKLQDVVNQNAQALNTLVKQLSSNFGAISSVLNDILSRLDKVEAEVQIDRLITGRLQSLQTYVTQQLIRAAEIRASANLAATKMSECVLGQSKRVDFCGKGYHLMSFPQSAPHGVVFLHVTYVPAQEKNFTTAPAICHDGKAHFPREGVFVSNGTHWFVTQRNFYEPQIITTDNTFVSGNCDVVIGIVNNTVYDPLQPELDSFKEELDKYFKNHTSPDVDLGDISGINASVVNIQKEIDRLNEVAKNLNESLIDLQELGKYEQYIKWPWYIWLGFIAGLIAIVMVTIMLCCMTSCCSCLKGCCSCGSCCKFDEDDSEPVLKGVKLHYT*'}\n"
     ]
    }
   ],
   "source": [
    "# Read in fasta file\n",
    "\n",
    "fasta_filename = \"data/spikeprot0309.fasta\"\n",
    "fasta_samples = parse_fasta(fasta_filename)\n",
    "\n",
    "print(\"Number of FASTA entries: \", len(fasta_samples.keys()))\n",
    "print(\"\\nExample FASTA entry: \")\n",
    "for (_, value) in fasta_samples.items():\n",
    "    print(value)\n",
    "    break"
   ]
  },
  {
   "cell_type": "code",
   "execution_count": 26,
   "metadata": {},
   "outputs": [
    {
     "name": "stdout",
     "output_type": "stream",
     "text": [
      "Number of metadata entries:  1225793\n",
      "\n",
      "Example metadata entry: \n",
      "{'Virus name': 'Australia/NT12/2020', 'Type': 'betacoronavirus', 'Accession ID': 'EPI_ISL_426900', 'Collection date': '2020', 'Location': 'Oceania / Australia / Northern territory', 'Additional location information': '', 'Sequence length': '29862', 'Host': 'Human', 'Patient age': 'unknown', 'Gender': 'unknown', 'Clade': 'G', 'Pango lineage': 'B.1', 'Pangolin version': '2021-04-21', 'Variant': '', 'AA Substitutions': '(NSP15_A283V,NSP12_P323L,Spike_D614G)', 'Submission date': '2020-04-17', 'Is reference?': '', 'Is complete?': 'True', 'Is high coverage?': 'True', 'Is low coverage?': '', 'N-Content': '0.00691236470311', 'GC-Content': '0.379674275888'}\n"
     ]
    }
   ],
   "source": [
    "# Read in metadata file\n",
    "\n",
    "metadata_filename = \"data/metadata.tsv\"\n",
    "metadata_samples = parse_gisaid_metadata(metadata_filename)\n",
    "\n",
    "print(\"Number of metadata entries: \", len(metadata_samples.keys()))\n",
    "print(\"\\nExample metadata entry: \")\n",
    "for (_, value) in metadata_samples.items():\n",
    "    print(value)\n",
    "    break"
   ]
  },
  {
   "cell_type": "code",
   "execution_count": 27,
   "metadata": {},
   "outputs": [
    {
     "name": "stdout",
     "output_type": "stream",
     "text": [
      "Number of global timetree entries:  7354\n",
      "\n",
      "Example global timetree entry: \n",
      "{'strain': 'Wuhan/WH01/2019', 'path_length': '0.0020887245693756995', 'timetree_id': 0, 'clade_membership': '19A', 'num_date': '2019.9849315068493', 'num_date_CI': '{2019.9849315068493,2019.9849315068493}', 'subclade_membership': '19A', 'pango_lineage': 'B', 'GISAID_clade': 'L', 'location': 'Wuhan', 'division': 'Hubei', 'country': 'China', 'region': 'Asia', 'host': 'Human', 'age': '44', 'sex': 'Male', 'recency': 'Older', 'country_exposure': 'China', 'division_exposure': 'Hubei', 'div': '2'}\n"
     ]
    }
   ],
   "source": [
    "# Read in timetree file\n",
    "\n",
    "timetree_filename = \"data/nextstrain_ncov_global_timetree.nexus\"\n",
    "(timetree_samples, _) = parse_timetree(timetree_filename)\n",
    "\n",
    "print(\"Number of global timetree entries: \", len(timetree_samples.keys()))\n",
    "print(\"\\nExample global timetree entry: \")\n",
    "for (_, value) in timetree_samples.items():\n",
    "    print(value)\n",
    "    break"
   ]
  },
  {
   "cell_type": "code",
   "execution_count": 28,
   "metadata": {},
   "outputs": [
    {
     "name": "stdout",
     "output_type": "stream",
     "text": [
      "Number of matching EPI_ISL ID's between GISAID metadata and FASTA:  700872\n"
     ]
    }
   ],
   "source": [
    "# Find matches between metadata and fasta data using EPI_ISL_ID\n",
    "\n",
    "metadata_fasta_matches = []\n",
    "for epi_isl in metadata_samples.keys():\n",
    "    if epi_isl in fasta_samples and metadata_samples[epi_isl][\"Is complete?\"]:\n",
    "        metadata_fasta_matches.append(epi_isl)\n",
    "        \n",
    "print(\"Number of matching EPI_ISL ID's between GISAID metadata and FASTA: \", len(metadata_fasta_matches))"
   ]
  },
  {
   "cell_type": "code",
   "execution_count": 29,
   "metadata": {
    "scrolled": true
   },
   "outputs": [
    {
     "name": "stdout",
     "output_type": "stream",
     "text": [
      "Example matched sample: \n",
      "{'strain': 'Australia/NT12/2020', 'clade': 'G', 'pango_lineage': 'B.1', 'sequence': 'MFVFLVLLPLVSSQCVNLTTRTQLPPAYTNSFTRGVYYPDKVFRSSVLHSTQDLFLPFFSNVTWFHAIHVSGTNGTKRFDNPVLPFNDGVYFASTEKSNIIRGWIFGTTLDSKTQSLLIVNNATNVVIKVCEFQFCNDPFLGVYYHKNNKSWMESEFRVYSSANNCTFEYVSQPFLMDLEGKQGNFKNLREFVFKNIDGYFKIYSKHTPINLVRDLPQGFSALEPLVDLPIGINITRFQTLLALHRSYLTPGDSSSGWTXXXXXXXXXXXXXXXXXXXXXXXXXXXXXXXXXXXXXXXXXXXXXXXXXXXXXXXXXXXXXXPTESIVRFPNITNLCPFGEVFNATRFASVYAWNRKRISNCVADYSVLYNSASFSTFKCYGVSPTKLNDLCFTNVYADSFVIRGDEVRQIAPGQTGKIADYNYKLPDDFTGCVIAWNSNNLDSKVGGNYNYLYRLFRKSNLKPFERDISTEIYQAGSTPCNGVEGFNCYFPLQSYGFQPTNGVGYQPYRVVVLSFELLHAPATVCGPKKSTNLVKNKCVNFNFNGLTGTGVLTESNKKFLPFQQFGRDIADTTDAVRDPQTLEILDITPCSFGGVSVITPGTNTSNQVAVLYQGVNCTEVPVAIHADQLTPTWRVYSTGSNVFQTRAGCLIGAEHVNNSYECDIPIGAGICASYQTQTNSPRRARSVASQSIIAYTMSLGAENSVAYSNNSIAIPTNFTISVTTEILPVSMTKTSVDCTMYICGDSTECSNLLLQYGSFCTQLNRALTGIAVEQDKNTQEVFAQVKQIYKTPPIKDFGGFNFSQILPDPSKPSKRSFIEDLLFNKVTLADAGFIKQYGDCLGDIAARDLICAQKFNGLTVLPPLLTDEMIAQYTSALLAGTITSGWTFGAGAALQIPFAMQMAYRFNGIGVTQNVLYENQKLIANQFNSAIGKIQDSLSSTASALGKLQDVVNQNAQALNTLVKQLSSNFGAISSVLNDILSRLDKVEAEVQIDRLITGRLQSLQTYVTQQLIRAAEIRASANLAATKMSECVLGQSKRVDFCGKGYHLMSFPQSAPHGVVFLHVTYVPAQEKNFTTAPAICHDGKAHFPREGVFVSNGTHWFVTQRNFYEPQIITTDNTFVSGNCDVVIGIVNNTVYDPLQPELDSFKEELDKYFKNHTSPDVDLGDISGINASVVNIQKEIDRLNEVAKNLNESLIDLQELGKYEQYIKWPWYIWLGFIAGLIAIVMVTIMLCCMTSCCSCLKGCCSCGSCCKFDEDDSEPVLKGVKLHYT*'}\n"
     ]
    }
   ],
   "source": [
    "# Build dictionary of entries that match between metadata and fasta\n",
    "\n",
    "metadata_fasta_samples = {}\n",
    "for epi_isl in metadata_fasta_matches:\n",
    "    fasta = fasta_samples[epi_isl]\n",
    "    metadata = metadata_samples[epi_isl]\n",
    "    \n",
    "    sample = {\n",
    "        \"strain\": metadata[\"Virus name\"],\n",
    "        \"clade\": metadata[\"Clade\"],\n",
    "        \"pango_lineage\": metadata[\"Pango lineage\"],\n",
    "        \"sequence\": fasta[\"Sequence\"],\n",
    "    }\n",
    "    \n",
    "    metadata_fasta_samples[epi_isl] = sample\n",
    "\n",
    "print(\"Example matched sample: \")\n",
    "for (_, value) in metadata_fasta_samples.items():\n",
    "    print(value)\n",
    "    break"
   ]
  },
  {
   "cell_type": "code",
   "execution_count": 30,
   "metadata": {},
   "outputs": [],
   "source": [
    "# Find matches between timetree and fasta data using strain\n",
    "\n",
    "# timetree_fasta_matches = []\n",
    "# for epi_isl in metadata_fasta_matches:\n",
    "#     strain = metadata_samples[epi_isl][\"Strain\"]\n",
    "#     if strain in timetree_samples:\n",
    "#         timetree_fasta_matches.append(epi_isl)\n",
    "        \n",
    "# print(\"Number of matches between EPI_ISL ID's and NextStrain global timetree: \", len(timetree_fasta_matches))"
   ]
  },
  {
   "cell_type": "code",
   "execution_count": 31,
   "metadata": {
    "scrolled": true
   },
   "outputs": [],
   "source": [
    "# Build dictionary of entries that match between all three files\n",
    "\n",
    "# matched_samples = {}\n",
    "# for epi_isl in timetree_fasta_matches:\n",
    "#     fasta = fasta_samples[epi_isl]\n",
    "#     metadata = metadata_samples[epi_isl]\n",
    "#     timetree = timetree_samples[metadata[\"Strain\"]]\n",
    "    \n",
    "#     sample = {\n",
    "#         \"strain\": metadata[\"Strain\"],\n",
    "#         \"divergence\": int(timetree[\"div\"]),\n",
    "#         \"clade\": timetree[\"clade_membership\"],\n",
    "#         \"subclade\": timetree[\"subclade_membership\"],\n",
    "#         \"sequence\": fasta[\"Sequence\"],\n",
    "#     }\n",
    "    \n",
    "#     matched_samples[epi_isl] = sample\n",
    "\n",
    "# print(\"Example matched sample: \")\n",
    "# for (_, value) in matched_samples.items():\n",
    "#     print(value)\n",
    "#     break"
   ]
  },
  {
   "cell_type": "code",
   "execution_count": 32,
   "metadata": {},
   "outputs": [
    {
     "name": "stdout",
     "output_type": "stream",
     "text": [
      "Amino mapping:  {'A': 0, 'B': 1, 'C': 2, 'D': 3, 'E': 4, 'F': 5, 'G': 6, 'H': 7, 'I': 8, 'K': 9, 'L': 10, 'M': 11, 'N': 12, 'P': 13, 'Q': 14, 'R': 15, 'S': 16, 'T': 17, 'U': 18, 'V': 19, 'W': 20, 'X': 21, 'Y': 22, 'Z': 23, '*': 24}\n",
      "\n",
      "Clade mapping:  {'G': 0, 'GH': 1, 'GR': 2, 'GRY': 3, 'GV': 4, 'L': 5, 'O': 6, 'S': 7, 'V': 8}\n",
      "\n",
      "Pango mapping:  {'A': 0, 'A.1': 1, 'A.11': 2, 'A.12': 3, 'A.15': 4, 'A.16': 5, 'A.17': 6, 'A.18': 7, 'A.19': 8, 'A.2': 9, 'A.2.2': 10, 'A.2.3': 11, 'A.2.4': 12, 'A.2.5': 13, 'A.2.5.1': 14, 'A.2.5.2': 15, 'A.21': 16, 'A.22': 17, 'A.23': 18, 'A.23.1': 19, 'A.24': 20, 'A.25': 21, 'A.26': 22, 'A.27': 23, 'A.28': 24, 'A.3': 25, 'A.4': 26, 'A.5': 27, 'A.6': 28, 'A.7': 29, 'A.9': 30, 'AA.1': 31, 'AA.2': 32, 'AA.3': 33, 'AA.4': 34, 'AA.5': 35, 'AA.6': 36, 'AA.7': 37, 'AA.8': 38, 'AB.1': 39, 'AC.1': 40, 'AD.1': 41, 'AD.2': 42, 'AD.2.1': 43, 'AE.1': 44, 'AE.2': 45, 'AE.3': 46, 'AE.4': 47, 'AE.5': 48, 'AE.6': 49, 'AE.7': 50, 'AE.8': 51, 'AF.1': 52, 'AG.1': 53, 'AH.1': 54, 'AH.2': 55, 'AH.3': 56, 'AJ.1': 57, 'AK.1': 58, 'AK.2': 59, 'AL.1': 60, 'AM.1': 61, 'AM.2': 62, 'AM.3': 63, 'AM.4': 64, 'AN.1': 65, 'AP.1': 66, 'AQ.1': 67, 'AQ.2': 68, 'AS.1': 69, 'AS.2': 70, 'B': 71, 'B.1': 72, 'B.1.1': 73, 'B.1.1.1': 74, 'B.1.1.10': 75, 'B.1.1.100': 76, 'B.1.1.101': 77, 'B.1.1.107': 78, 'B.1.1.109': 79, 'B.1.1.110': 80, 'B.1.1.111': 81, 'B.1.1.112': 82, 'B.1.1.113': 83, 'B.1.1.114': 84, 'B.1.1.115': 85, 'B.1.1.116': 86, 'B.1.1.117': 87, 'B.1.1.118': 88, 'B.1.1.119': 89, 'B.1.1.12': 90, 'B.1.1.120': 91, 'B.1.1.121': 92, 'B.1.1.122': 93, 'B.1.1.123': 94, 'B.1.1.125': 95, 'B.1.1.127': 96, 'B.1.1.128': 97, 'B.1.1.129': 98, 'B.1.1.13': 99, 'B.1.1.130': 100, 'B.1.1.132': 101, 'B.1.1.133': 102, 'B.1.1.134': 103, 'B.1.1.135': 104, 'B.1.1.136': 105, 'B.1.1.137': 106, 'B.1.1.138': 107, 'B.1.1.139': 108, 'B.1.1.14': 109, 'B.1.1.141': 110, 'B.1.1.142': 111, 'B.1.1.144': 112, 'B.1.1.145': 113, 'B.1.1.147': 114, 'B.1.1.148': 115, 'B.1.1.149': 116, 'B.1.1.15': 117, 'B.1.1.152': 118, 'B.1.1.153': 119, 'B.1.1.154': 120, 'B.1.1.155': 121, 'B.1.1.157': 122, 'B.1.1.158': 123, 'B.1.1.159': 124, 'B.1.1.16': 125, 'B.1.1.160': 126, 'B.1.1.161': 127, 'B.1.1.162': 128, 'B.1.1.163': 129, 'B.1.1.164': 130, 'B.1.1.165': 131, 'B.1.1.166': 132, 'B.1.1.168': 133, 'B.1.1.169': 134, 'B.1.1.17': 135, 'B.1.1.170': 136, 'B.1.1.171': 137, 'B.1.1.172': 138, 'B.1.1.174': 139, 'B.1.1.175': 140, 'B.1.1.176': 141, 'B.1.1.177': 142, 'B.1.1.178': 143, 'B.1.1.180': 144, 'B.1.1.181': 145, 'B.1.1.182': 146, 'B.1.1.184': 147, 'B.1.1.185': 148, 'B.1.1.186': 149, 'B.1.1.187': 150, 'B.1.1.189': 151, 'B.1.1.190': 152, 'B.1.1.191': 153, 'B.1.1.192': 154, 'B.1.1.193': 155, 'B.1.1.194': 156, 'B.1.1.196': 157, 'B.1.1.197': 158, 'B.1.1.198': 159, 'B.1.1.200': 160, 'B.1.1.201': 161, 'B.1.1.202': 162, 'B.1.1.203': 163, 'B.1.1.204': 164, 'B.1.1.205': 165, 'B.1.1.207': 166, 'B.1.1.208': 167, 'B.1.1.209': 168, 'B.1.1.210': 169, 'B.1.1.213': 170, 'B.1.1.214': 171, 'B.1.1.216': 172, 'B.1.1.217': 173, 'B.1.1.218': 174, 'B.1.1.219': 175, 'B.1.1.220': 176, 'B.1.1.221': 177, 'B.1.1.222': 178, 'B.1.1.224': 179, 'B.1.1.225': 180, 'B.1.1.226': 181, 'B.1.1.227': 182, 'B.1.1.228': 183, 'B.1.1.229': 184, 'B.1.1.230': 185, 'B.1.1.231': 186, 'B.1.1.232': 187, 'B.1.1.234': 188, 'B.1.1.236': 189, 'B.1.1.237': 190, 'B.1.1.239': 191, 'B.1.1.240': 192, 'B.1.1.241': 193, 'B.1.1.242': 194, 'B.1.1.243': 195, 'B.1.1.244': 196, 'B.1.1.249': 197, 'B.1.1.25': 198, 'B.1.1.251': 199, 'B.1.1.253': 200, 'B.1.1.254': 201, 'B.1.1.255': 202, 'B.1.1.256': 203, 'B.1.1.257': 204, 'B.1.1.258': 205, 'B.1.1.26': 206, 'B.1.1.261': 207, 'B.1.1.262': 208, 'B.1.1.263': 209, 'B.1.1.265': 210, 'B.1.1.266': 211, 'B.1.1.267': 212, 'B.1.1.268': 213, 'B.1.1.269': 214, 'B.1.1.27': 215, 'B.1.1.270': 216, 'B.1.1.271': 217, 'B.1.1.272': 218, 'B.1.1.273': 219, 'B.1.1.274': 220, 'B.1.1.275': 221, 'B.1.1.277': 222, 'B.1.1.279': 223, 'B.1.1.28': 224, 'B.1.1.280': 225, 'B.1.1.282': 226, 'B.1.1.283': 227, 'B.1.1.284': 228, 'B.1.1.285': 229, 'B.1.1.286': 230, 'B.1.1.288': 231, 'B.1.1.289': 232, 'B.1.1.29': 233, 'B.1.1.290': 234, 'B.1.1.291': 235, 'B.1.1.294': 236, 'B.1.1.296': 237, 'B.1.1.297': 238, 'B.1.1.298': 239, 'B.1.1.299': 240, 'B.1.1.3': 241, 'B.1.1.30': 242, 'B.1.1.300': 243, 'B.1.1.301': 244, 'B.1.1.302': 245, 'B.1.1.303': 246, 'B.1.1.304': 247, 'B.1.1.305': 248, 'B.1.1.306': 249, 'B.1.1.307': 250, 'B.1.1.308': 251, 'B.1.1.309': 252, 'B.1.1.31': 253, 'B.1.1.310': 254, 'B.1.1.311': 255, 'B.1.1.312': 256, 'B.1.1.315': 257, 'B.1.1.316': 258, 'B.1.1.317': 259, 'B.1.1.318': 260, 'B.1.1.319': 261, 'B.1.1.320': 262, 'B.1.1.322': 263, 'B.1.1.323': 264, 'B.1.1.324': 265, 'B.1.1.325': 266, 'B.1.1.326': 267, 'B.1.1.327': 268, 'B.1.1.328': 269, 'B.1.1.329': 270, 'B.1.1.33': 271, 'B.1.1.330': 272, 'B.1.1.331': 273, 'B.1.1.332': 274, 'B.1.1.333': 275, 'B.1.1.334': 276, 'B.1.1.335': 277, 'B.1.1.336': 278, 'B.1.1.337': 279, 'B.1.1.338': 280, 'B.1.1.339': 281, 'B.1.1.34': 282, 'B.1.1.340': 283, 'B.1.1.341': 284, 'B.1.1.342': 285, 'B.1.1.343': 286, 'B.1.1.344': 287, 'B.1.1.345': 288, 'B.1.1.346': 289, 'B.1.1.347': 290, 'B.1.1.348': 291, 'B.1.1.349': 292, 'B.1.1.350': 293, 'B.1.1.351': 294, 'B.1.1.352': 295, 'B.1.1.353': 296, 'B.1.1.354': 297, 'B.1.1.355': 298, 'B.1.1.356': 299, 'B.1.1.357': 300, 'B.1.1.358': 301, 'B.1.1.359': 302, 'B.1.1.360': 303, 'B.1.1.361': 304, 'B.1.1.362': 305, 'B.1.1.363': 306, 'B.1.1.364': 307, 'B.1.1.365': 308, 'B.1.1.366': 309, 'B.1.1.367': 310, 'B.1.1.368': 311, 'B.1.1.369': 312, 'B.1.1.37': 313, 'B.1.1.370': 314, 'B.1.1.371': 315, 'B.1.1.372': 316, 'B.1.1.373': 317, 'B.1.1.374': 318, 'B.1.1.375': 319, 'B.1.1.376': 320, 'B.1.1.377': 321, 'B.1.1.378': 322, 'B.1.1.379': 323, 'B.1.1.38': 324, 'B.1.1.380': 325, 'B.1.1.381': 326, 'B.1.1.382': 327, 'B.1.1.383': 328, 'B.1.1.384': 329, 'B.1.1.385': 330, 'B.1.1.386': 331, 'B.1.1.387': 332, 'B.1.1.388': 333, 'B.1.1.389': 334, 'B.1.1.39': 335, 'B.1.1.391': 336, 'B.1.1.392': 337, 'B.1.1.393': 338, 'B.1.1.394': 339, 'B.1.1.395': 340, 'B.1.1.396': 341, 'B.1.1.397': 342, 'B.1.1.398': 343, 'B.1.1.399': 344, 'B.1.1.4': 345, 'B.1.1.40': 346, 'B.1.1.400': 347, 'B.1.1.401': 348, 'B.1.1.402': 349, 'B.1.1.403': 350, 'B.1.1.404': 351, 'B.1.1.405': 352, 'B.1.1.406': 353, 'B.1.1.407': 354, 'B.1.1.408': 355, 'B.1.1.409': 356, 'B.1.1.41': 357, 'B.1.1.410': 358, 'B.1.1.411': 359, 'B.1.1.412': 360, 'B.1.1.413': 361, 'B.1.1.414': 362, 'B.1.1.415': 363, 'B.1.1.416': 364, 'B.1.1.417': 365, 'B.1.1.418': 366, 'B.1.1.419': 367, 'B.1.1.420': 368, 'B.1.1.421': 369, 'B.1.1.422': 370, 'B.1.1.423': 371, 'B.1.1.424': 372, 'B.1.1.425': 373, 'B.1.1.426': 374, 'B.1.1.427': 375, 'B.1.1.428': 376, 'B.1.1.429': 377, 'B.1.1.43': 378, 'B.1.1.430': 379, 'B.1.1.431': 380, 'B.1.1.432': 381, 'B.1.1.433': 382, 'B.1.1.434': 383, 'B.1.1.435': 384, 'B.1.1.436': 385, 'B.1.1.437': 386, 'B.1.1.438': 387, 'B.1.1.44': 388, 'B.1.1.440': 389, 'B.1.1.441': 390, 'B.1.1.442': 391, 'B.1.1.444': 392, 'B.1.1.445': 393, 'B.1.1.446': 394, 'B.1.1.447': 395, 'B.1.1.448': 396, 'B.1.1.449': 397, 'B.1.1.45': 398, 'B.1.1.450': 399, 'B.1.1.451': 400, 'B.1.1.452': 401, 'B.1.1.453': 402, 'B.1.1.456': 403, 'B.1.1.458': 404, 'B.1.1.459': 405, 'B.1.1.46': 406, 'B.1.1.461': 407, 'B.1.1.462': 408, 'B.1.1.463': 409, 'B.1.1.464': 410, 'B.1.1.464.1': 411, 'B.1.1.465': 412, 'B.1.1.466': 413, 'B.1.1.467': 414, 'B.1.1.47': 415, 'B.1.1.48': 416, 'B.1.1.480': 417, 'B.1.1.481': 418, 'B.1.1.482': 419, 'B.1.1.483': 420, 'B.1.1.484': 421, 'B.1.1.485': 422, 'B.1.1.486': 423, 'B.1.1.487': 424, 'B.1.1.49': 425, 'B.1.1.5': 426, 'B.1.1.50': 427, 'B.1.1.500': 428, 'B.1.1.506': 429, 'B.1.1.507': 430, 'B.1.1.51': 431, 'B.1.1.512': 432, 'B.1.1.513': 433, 'B.1.1.514': 434, 'B.1.1.515': 435, 'B.1.1.516': 436, 'B.1.1.517': 437, 'B.1.1.518': 438, 'B.1.1.519': 439, 'B.1.1.52': 440, 'B.1.1.521': 441, 'B.1.1.53': 442, 'B.1.1.54': 443, 'B.1.1.55': 444, 'B.1.1.56': 445, 'B.1.1.57': 446, 'B.1.1.58': 447, 'B.1.1.59': 448, 'B.1.1.61': 449, 'B.1.1.62': 450, 'B.1.1.63': 451, 'B.1.1.67': 452, 'B.1.1.7': 453, 'B.1.1.70': 454, 'B.1.1.71': 455, 'B.1.1.72': 456, 'B.1.1.74': 457, 'B.1.1.75': 458, 'B.1.1.77': 459, 'B.1.1.8': 460, 'B.1.1.82': 461, 'B.1.1.83': 462, 'B.1.1.84': 463, 'B.1.1.86': 464, 'B.1.1.87': 465, 'B.1.1.88': 466, 'B.1.1.89': 467, 'B.1.1.90': 468, 'B.1.1.91': 469, 'B.1.1.92': 470, 'B.1.1.93': 471, 'B.1.1.95': 472, 'B.1.1.97': 473, 'B.1.1.98': 474, 'B.1.1.99': 475, 'B.1.103': 476, 'B.1.104': 477, 'B.1.105': 478, 'B.1.106': 479, 'B.1.108': 480, 'B.1.110': 481, 'B.1.110.1': 482, 'B.1.110.2': 483, 'B.1.110.3': 484, 'B.1.111': 485, 'B.1.112': 486, 'B.1.113': 487, 'B.1.115': 488, 'B.1.116': 489, 'B.1.117': 490, 'B.1.118': 491, 'B.1.119': 492, 'B.1.12': 493, 'B.1.120': 494, 'B.1.124': 495, 'B.1.126': 496, 'B.1.127': 497, 'B.1.128': 498, 'B.1.13': 499, 'B.1.131': 500, 'B.1.134': 501, 'B.1.137': 502, 'B.1.139': 503, 'B.1.14': 504, 'B.1.140': 505, 'B.1.142': 506, 'B.1.143': 507, 'B.1.145': 508, 'B.1.146': 509, 'B.1.147': 510, 'B.1.149': 511, 'B.1.151': 512, 'B.1.153': 513, 'B.1.157': 514, 'B.1.158': 515, 'B.1.159': 516, 'B.1.160': 517, 'B.1.160.10': 518, 'B.1.160.11': 519, 'B.1.160.12': 520, 'B.1.160.13': 521, 'B.1.160.14': 522, 'B.1.160.15': 523, 'B.1.160.16': 524, 'B.1.160.17': 525, 'B.1.160.18': 526, 'B.1.160.19': 527, 'B.1.160.20': 528, 'B.1.160.21': 529, 'B.1.160.22': 530, 'B.1.160.23': 531, 'B.1.160.24': 532, 'B.1.160.25': 533, 'B.1.160.26': 534, 'B.1.160.27': 535, 'B.1.160.28': 536, 'B.1.160.29': 537, 'B.1.160.30': 538, 'B.1.160.31': 539, 'B.1.160.32': 540, 'B.1.160.33': 541, 'B.1.160.7': 542, 'B.1.160.8': 543, 'B.1.160.9': 544, 'B.1.161': 545, 'B.1.162': 546, 'B.1.163': 547, 'B.1.164': 548, 'B.1.165': 549, 'B.1.166': 550, 'B.1.167': 551, 'B.1.168': 552, 'B.1.169': 553, 'B.1.170': 554, 'B.1.173': 555, 'B.1.177': 556, 'B.1.177.10': 557, 'B.1.177.11': 558, 'B.1.177.12': 559, 'B.1.177.14': 560, 'B.1.177.15': 561, 'B.1.177.16': 562, 'B.1.177.17': 563, 'B.1.177.18': 564, 'B.1.177.19': 565, 'B.1.177.2': 566, 'B.1.177.20': 567, 'B.1.177.21': 568, 'B.1.177.23': 569, 'B.1.177.24': 570, 'B.1.177.25': 571, 'B.1.177.26': 572, 'B.1.177.27': 573, 'B.1.177.28': 574, 'B.1.177.29': 575, 'B.1.177.3': 576, 'B.1.177.30': 577, 'B.1.177.31': 578, 'B.1.177.32': 579, 'B.1.177.33': 580, 'B.1.177.34': 581, 'B.1.177.35': 582, 'B.1.177.36': 583, 'B.1.177.37': 584, 'B.1.177.38': 585, 'B.1.177.39': 586, 'B.1.177.4': 587, 'B.1.177.40': 588, 'B.1.177.41': 589, 'B.1.177.42': 590, 'B.1.177.43': 591, 'B.1.177.44': 592, 'B.1.177.45': 593, 'B.1.177.46': 594, 'B.1.177.47': 595, 'B.1.177.48': 596, 'B.1.177.49': 597, 'B.1.177.5': 598, 'B.1.177.50': 599, 'B.1.177.51': 600, 'B.1.177.52': 601, 'B.1.177.53': 602, 'B.1.177.54': 603, 'B.1.177.55': 604, 'B.1.177.56': 605, 'B.1.177.57': 606, 'B.1.177.58': 607, 'B.1.177.59': 608, 'B.1.177.6': 609, 'B.1.177.60': 610, 'B.1.177.61': 611, 'B.1.177.62': 612, 'B.1.177.63': 613, 'B.1.177.64': 614, 'B.1.177.65': 615, 'B.1.177.66': 616, 'B.1.177.67': 617, 'B.1.177.68': 618, 'B.1.177.69': 619, 'B.1.177.7': 620, 'B.1.177.70': 621, 'B.1.177.71': 622, 'B.1.177.72': 623, 'B.1.177.73': 624, 'B.1.177.74': 625, 'B.1.177.75': 626, 'B.1.177.76': 627, 'B.1.177.77': 628, 'B.1.177.78': 629, 'B.1.177.79': 630, 'B.1.177.8': 631, 'B.1.177.80': 632, 'B.1.177.81': 633, 'B.1.177.82': 634, 'B.1.177.83': 635, 'B.1.177.84': 636, 'B.1.177.85': 637, 'B.1.177.86': 638, 'B.1.177.87': 639, 'B.1.177.88': 640, 'B.1.177.89': 641, 'B.1.177.9': 642, 'B.1.178': 643, 'B.1.179': 644, 'B.1.180': 645, 'B.1.181': 646, 'B.1.182': 647, 'B.1.184': 648, 'B.1.187': 649, 'B.1.188': 650, 'B.1.189': 651, 'B.1.190': 652, 'B.1.192': 653, 'B.1.194': 654, 'B.1.195': 655, 'B.1.198': 656, 'B.1.199': 657, 'B.1.2': 658, 'B.1.201': 659, 'B.1.203': 660, 'B.1.205': 661, 'B.1.206': 662, 'B.1.208': 663, 'B.1.210': 664, 'B.1.211': 665, 'B.1.212': 666, 'B.1.213': 667, 'B.1.214': 668, 'B.1.214.1': 669, 'B.1.214.2': 670, 'B.1.214.3': 671, 'B.1.214.4': 672, 'B.1.215': 673, 'B.1.218': 674, 'B.1.219': 675, 'B.1.22': 676, 'B.1.22.1': 677, 'B.1.220': 678, 'B.1.221': 679, 'B.1.221.1': 680, 'B.1.221.2': 681, 'B.1.221.3': 682, 'B.1.221.4': 683, 'B.1.222': 684, 'B.1.223': 685, 'B.1.224': 686, 'B.1.225': 687, 'B.1.227': 688, 'B.1.229': 689, 'B.1.23': 690, 'B.1.231': 691, 'B.1.232': 692, 'B.1.233': 693, 'B.1.234': 694, 'B.1.235': 695, 'B.1.236': 696, 'B.1.237': 697, 'B.1.238': 698, 'B.1.239': 699, 'B.1.240': 700, 'B.1.240.1': 701, 'B.1.240.2': 702, 'B.1.241': 703, 'B.1.242': 704, 'B.1.243': 705, 'B.1.243.1': 706, 'B.1.245': 707, 'B.1.247': 708, 'B.1.248': 709, 'B.1.249': 710, 'B.1.250': 711, 'B.1.251': 712, 'B.1.252': 713, 'B.1.254': 714, 'B.1.256': 715, 'B.1.258': 716, 'B.1.258.10': 717, 'B.1.258.11': 718, 'B.1.258.12': 719, 'B.1.258.14': 720, 'B.1.258.15': 721, 'B.1.258.16': 722, 'B.1.258.17': 723, 'B.1.258.18': 724, 'B.1.258.19': 725, 'B.1.258.2': 726, 'B.1.258.20': 727, 'B.1.258.21': 728, 'B.1.258.22': 729, 'B.1.258.23': 730, 'B.1.258.24': 731, 'B.1.258.3': 732, 'B.1.258.4': 733, 'B.1.258.5': 734, 'B.1.258.6': 735, 'B.1.258.7': 736, 'B.1.258.9': 737, 'B.1.260': 738, 'B.1.263': 739, 'B.1.264': 740, 'B.1.264.1': 741, 'B.1.265': 742, 'B.1.267': 743, 'B.1.268': 744, 'B.1.270': 745, 'B.1.273': 746, 'B.1.274': 747, 'B.1.276': 748, 'B.1.277': 749, 'B.1.279': 750, 'B.1.280': 751, 'B.1.281': 752, 'B.1.282': 753, 'B.1.284': 754, 'B.1.285': 755, 'B.1.287': 756, 'B.1.289': 757, 'B.1.291': 758, 'B.1.292': 759, 'B.1.293': 760, 'B.1.294': 761, 'B.1.298': 762, 'B.1.3': 763, 'B.1.301': 764, 'B.1.302': 765, 'B.1.304': 766, 'B.1.305': 767, 'B.1.306': 768, 'B.1.308': 769, 'B.1.309': 770, 'B.1.310': 771, 'B.1.311': 772, 'B.1.313': 773, 'B.1.314': 774, 'B.1.315': 775, 'B.1.316': 776, 'B.1.318': 777, 'B.1.319': 778, 'B.1.320': 779, 'B.1.321': 780, 'B.1.323': 781, 'B.1.324': 782, 'B.1.325': 783, 'B.1.326': 784, 'B.1.328': 785, 'B.1.329': 786, 'B.1.330': 787, 'B.1.332': 788, 'B.1.333': 789, 'B.1.334': 790, 'B.1.335': 791, 'B.1.336': 792, 'B.1.337': 793, 'B.1.338': 794, 'B.1.340': 795, 'B.1.341': 796, 'B.1.342': 797, 'B.1.343': 798, 'B.1.344': 799, 'B.1.346': 800, 'B.1.348': 801, 'B.1.349': 802, 'B.1.35': 803, 'B.1.350': 804, 'B.1.350.1': 805, 'B.1.351': 806, 'B.1.354': 807, 'B.1.355': 808, 'B.1.356': 809, 'B.1.357': 810, 'B.1.358': 811, 'B.1.359': 812, 'B.1.36': 813, 'B.1.36.1': 814, 'B.1.36.10': 815, 'B.1.36.12': 816, 'B.1.36.16': 817, 'B.1.36.17': 818, 'B.1.36.18': 819, 'B.1.36.19': 820, 'B.1.36.2': 821, 'B.1.36.20': 822, 'B.1.36.21': 823, 'B.1.36.22': 824, 'B.1.36.23': 825, 'B.1.36.24': 826, 'B.1.36.25': 827, 'B.1.36.26': 828, 'B.1.36.27': 829, 'B.1.36.28': 830, 'B.1.36.29': 831, 'B.1.36.31': 832, 'B.1.36.33': 833, 'B.1.36.34': 834, 'B.1.36.35': 835, 'B.1.36.36': 836, 'B.1.36.37': 837, 'B.1.36.38': 838, 'B.1.36.39': 839, 'B.1.36.7': 840, 'B.1.36.8': 841, 'B.1.36.9': 842, 'B.1.360': 843, 'B.1.361': 844, 'B.1.362': 845, 'B.1.362.1': 846, 'B.1.362.2': 847, 'B.1.363': 848, 'B.1.366': 849, 'B.1.367': 850, 'B.1.369': 851, 'B.1.369.1': 852, 'B.1.37': 853, 'B.1.370': 854, 'B.1.371': 855, 'B.1.372': 856, 'B.1.375': 857, 'B.1.377': 858, 'B.1.378': 859, 'B.1.379': 860, 'B.1.38': 861, 'B.1.380': 862, 'B.1.381': 863, 'B.1.382': 864, 'B.1.383': 865, 'B.1.384': 866, 'B.1.385': 867, 'B.1.387': 868, 'B.1.388': 869, 'B.1.389': 870, 'B.1.39': 871, 'B.1.390': 872, 'B.1.391': 873, 'B.1.393': 874, 'B.1.395': 875, 'B.1.396': 876, 'B.1.397': 877, 'B.1.398': 878, 'B.1.399': 879, 'B.1.40': 880, 'B.1.400': 881, 'B.1.401': 882, 'B.1.402': 883, 'B.1.403': 884, 'B.1.404': 885, 'B.1.405': 886, 'B.1.406': 887, 'B.1.407': 888, 'B.1.408': 889, 'B.1.409': 890, 'B.1.411': 891, 'B.1.413': 892, 'B.1.415': 893, 'B.1.416': 894, 'B.1.416.1': 895, 'B.1.417': 896, 'B.1.418': 897, 'B.1.420': 898, 'B.1.421': 899, 'B.1.422': 900, 'B.1.423': 901, 'B.1.424': 902, 'B.1.425': 903, 'B.1.426': 904, 'B.1.427': 905, 'B.1.428': 906, 'B.1.428.1': 907, 'B.1.428.2': 908, 'B.1.428.3': 909, 'B.1.429': 910, 'B.1.429.1': 911, 'B.1.431': 912, 'B.1.432': 913, 'B.1.433': 914, 'B.1.434': 915, 'B.1.435': 916, 'B.1.436': 917, 'B.1.437': 918, 'B.1.438': 919, 'B.1.438.1': 920, 'B.1.438.2': 921, 'B.1.438.3': 922, 'B.1.438.4': 923, 'B.1.439': 924, 'B.1.44': 925, 'B.1.441': 926, 'B.1.442': 927, 'B.1.443': 928, 'B.1.444': 929, 'B.1.445': 930, 'B.1.446': 931, 'B.1.448': 932, 'B.1.450': 933, 'B.1.451': 934, 'B.1.452': 935, 'B.1.453': 936, 'B.1.456': 937, 'B.1.458': 938, 'B.1.459': 939, 'B.1.460': 940, 'B.1.462': 941, 'B.1.463': 942, 'B.1.465': 943, 'B.1.466': 944, 'B.1.466.1': 945, 'B.1.466.2': 946, 'B.1.467': 947, 'B.1.468': 948, 'B.1.469': 949, 'B.1.470': 950, 'B.1.471': 951, 'B.1.473': 952, 'B.1.474': 953, 'B.1.475': 954, 'B.1.476': 955, 'B.1.478': 956, 'B.1.479': 957, 'B.1.480': 958, 'B.1.482': 959, 'B.1.483': 960, 'B.1.485': 961, 'B.1.486': 962, 'B.1.487': 963, 'B.1.488': 964, 'B.1.489': 965, 'B.1.490': 966, 'B.1.491': 967, 'B.1.492': 968, 'B.1.493': 969, 'B.1.494': 970, 'B.1.495': 971, 'B.1.496': 972, 'B.1.497': 973, 'B.1.498': 974, 'B.1.499': 975, 'B.1.499.1': 976, 'B.1.500': 977, 'B.1.501': 978, 'B.1.502': 979, 'B.1.503': 980, 'B.1.504': 981, 'B.1.505': 982, 'B.1.506': 983, 'B.1.507': 984, 'B.1.508': 985, 'B.1.509': 986, 'B.1.510': 987, 'B.1.511': 988, 'B.1.513': 989, 'B.1.515': 990, 'B.1.516': 991, 'B.1.517': 992, 'B.1.517.1': 993, 'B.1.518': 994, 'B.1.520': 995, 'B.1.521': 996, 'B.1.523': 997, 'B.1.524': 998, 'B.1.525': 999, 'B.1.526': 1000, 'B.1.526.1': 1001, 'B.1.526.2': 1002, 'B.1.527': 1003, 'B.1.528': 1004, 'B.1.529': 1005, 'B.1.530': 1006, 'B.1.531': 1007, 'B.1.532': 1008, 'B.1.533': 1009, 'B.1.534': 1010, 'B.1.535': 1011, 'B.1.536': 1012, 'B.1.537': 1013, 'B.1.538': 1014, 'B.1.539': 1015, 'B.1.540': 1016, 'B.1.541': 1017, 'B.1.542': 1018, 'B.1.543': 1019, 'B.1.544': 1020, 'B.1.545': 1021, 'B.1.546': 1022, 'B.1.547': 1023, 'B.1.548': 1024, 'B.1.549': 1025, 'B.1.550': 1026, 'B.1.551': 1027, 'B.1.552': 1028, 'B.1.553': 1029, 'B.1.554': 1030, 'B.1.555': 1031, 'B.1.556': 1032, 'B.1.557': 1033, 'B.1.558': 1034, 'B.1.559': 1035, 'B.1.560': 1036, 'B.1.561': 1037, 'B.1.562': 1038, 'B.1.562.3': 1039, 'B.1.563': 1040, 'B.1.564': 1041, 'B.1.564.1': 1042, 'B.1.565': 1043, 'B.1.566': 1044, 'B.1.567': 1045, 'B.1.568': 1046, 'B.1.569': 1047, 'B.1.570': 1048, 'B.1.571': 1049, 'B.1.572': 1050, 'B.1.573': 1051, 'B.1.574': 1052, 'B.1.575': 1053, 'B.1.575.1': 1054, 'B.1.576': 1055, 'B.1.577': 1056, 'B.1.578': 1057, 'B.1.579': 1058, 'B.1.580': 1059, 'B.1.581': 1060, 'B.1.582': 1061, 'B.1.585': 1062, 'B.1.586': 1063, 'B.1.587': 1064, 'B.1.588': 1065, 'B.1.588.1': 1066, 'B.1.589': 1067, 'B.1.590': 1068, 'B.1.591': 1069, 'B.1.592': 1070, 'B.1.593': 1071, 'B.1.594': 1072, 'B.1.595': 1073, 'B.1.595.1': 1074, 'B.1.595.2': 1075, 'B.1.595.3': 1076, 'B.1.595.4': 1077, 'B.1.596': 1078, 'B.1.596.1': 1079, 'B.1.597': 1080, 'B.1.598': 1081, 'B.1.599': 1082, 'B.1.6': 1083, 'B.1.600': 1084, 'B.1.601': 1085, 'B.1.602': 1086, 'B.1.603': 1087, 'B.1.604': 1088, 'B.1.605': 1089, 'B.1.606': 1090, 'B.1.607': 1091, 'B.1.608': 1092, 'B.1.609': 1093, 'B.1.610': 1094, 'B.1.611': 1095, 'B.1.612': 1096, 'B.1.613': 1097, 'B.1.614': 1098, 'B.1.615': 1099, 'B.1.616': 1100, 'B.1.617.1': 1101, 'B.1.618': 1102, 'B.1.619': 1103, 'B.1.620': 1104, 'B.1.67': 1105, 'B.1.69': 1106, 'B.1.70': 1107, 'B.1.76': 1108, 'B.1.77': 1109, 'B.1.78': 1110, 'B.1.8': 1111, 'B.1.81': 1112, 'B.1.83': 1113, 'B.1.84': 1114, 'B.1.88.1': 1115, 'B.1.9': 1116, 'B.1.9.1': 1117, 'B.1.9.2': 1118, 'B.1.9.3': 1119, 'B.1.9.4': 1120, 'B.1.9.5': 1121, 'B.1.91': 1122, 'B.1.93': 1123, 'B.1.94': 1124, 'B.1.96': 1125, 'B.1.97': 1126, 'B.10': 1127, 'B.11': 1128, 'B.12': 1129, 'B.13': 1130, 'B.15': 1131, 'B.18': 1132, 'B.19': 1133, 'B.20': 1134, 'B.23': 1135, 'B.26': 1136, 'B.27': 1137, 'B.28': 1138, 'B.29': 1139, 'B.3': 1140, 'B.3.1': 1141, 'B.30': 1142, 'B.31': 1143, 'B.32': 1144, 'B.33': 1145, 'B.34': 1146, 'B.35': 1147, 'B.36': 1148, 'B.37': 1149, 'B.38': 1150, 'B.39': 1151, 'B.4': 1152, 'B.4.1': 1153, 'B.4.2': 1154, 'B.4.4': 1155, 'B.4.5': 1156, 'B.4.6': 1157, 'B.4.7': 1158, 'B.4.8': 1159, 'B.40': 1160, 'B.41': 1161, 'B.42': 1162, 'B.43': 1163, 'B.44': 1164, 'B.45': 1165, 'B.46': 1166, 'B.47': 1167, 'B.49': 1168, 'B.5': 1169, 'B.50': 1170, 'B.51': 1171, 'B.52': 1172, 'B.53': 1173, 'B.55': 1174, 'B.56': 1175, 'B.57': 1176, 'B.58': 1177, 'B.59': 1178, 'B.6': 1179, 'B.6.1': 1180, 'B.6.2': 1181, 'B.6.3': 1182, 'B.6.4': 1183, 'B.6.5': 1184, 'B.6.6': 1185, 'B.6.7': 1186, 'B.6.8': 1187, 'B.61': 1188, 'C.1': 1189, 'C.1.1': 1190, 'C.10': 1191, 'C.11': 1192, 'C.12': 1193, 'C.13': 1194, 'C.14': 1195, 'C.16': 1196, 'C.17': 1197, 'C.18': 1198, 'C.19': 1199, 'C.2': 1200, 'C.2.1': 1201, 'C.20': 1202, 'C.21': 1203, 'C.22': 1204, 'C.23': 1205, 'C.25': 1206, 'C.26': 1207, 'C.27': 1208, 'C.28': 1209, 'C.29': 1210, 'C.3': 1211, 'C.30': 1212, 'C.30.1': 1213, 'C.31': 1214, 'C.32': 1215, 'C.33': 1216, 'C.34': 1217, 'C.35': 1218, 'C.36': 1219, 'C.36.1': 1220, 'C.36.2': 1221, 'C.4': 1222, 'C.5': 1223, 'C.6': 1224, 'C.7': 1225, 'C.8': 1226, 'C.9': 1227, 'D.2': 1228, 'D.3': 1229, 'D.4': 1230, 'D.5': 1231, 'G.1': 1232, 'K.1': 1233, 'K.2': 1234, 'K.3': 1235, 'L.1': 1236, 'L.2': 1237, 'L.3': 1238, 'L.4': 1239, 'M.1': 1240, 'M.2': 1241, 'M.3': 1242, 'N.1': 1243, 'N.2': 1244, 'N.3': 1245, 'N.4': 1246, 'N.5': 1247, 'N.6': 1248, 'N.7': 1249, 'N.8': 1250, 'N.9': 1251, 'None': 1252, 'P.1': 1253, 'P.1.1': 1254, 'P.2': 1255, 'P.3': 1256, 'R.1': 1257, 'R.2': 1258, 'S.1': 1259, 'U.1': 1260, 'U.2': 1261, 'U.3': 1262, 'V.1': 1263, 'V.2': 1264, 'W.1': 1265, 'W.2': 1266, 'W.3': 1267, 'W.4': 1268, 'Y.1': 1269, 'Z.1': 1270}\n"
     ]
    }
   ],
   "source": [
    "# Map from amino acids, clades, and pango lineage to ints\n",
    "\n",
    "# Given a dictionary of samples, returns a mapping between entries of <key_name> and int\n",
    "def get_mapping(key_name, samples_dict):\n",
    "    all_entries = [value[key_name] for (_, value) in samples_dict.items()]\n",
    "    mapping_list = sorted(list(set(all_entries)))\n",
    "    \n",
    "    mapping_codes = {}\n",
    "    for (i, v) in enumerate(mapping_list):\n",
    "        mapping_codes[v] = i\n",
    "        \n",
    "    return (mapping_list, mapping_codes)\n",
    "\n",
    "with open(\"data/amino_list.txt\", encoding=\"utf8\") as f:\n",
    "    amino_list = f.read().strip().split(',')\n",
    "amino_codes = {}\n",
    "for (i, v) in enumerate(amino_list):\n",
    "    amino_codes[v] = i\n",
    "\n",
    "(clade_list, clade_codes) = get_mapping(\"clade\", metadata_fasta_samples)\n",
    "(pango_list, pango_codes) = get_mapping(\"pango_lineage\", metadata_fasta_samples)\n",
    "    \n",
    "print(\"Amino mapping: \", amino_codes)\n",
    "print(\"\\nClade mapping: \", clade_codes)\n",
    "print(\"\\nPango mapping: \", pango_codes)"
   ]
  },
  {
   "cell_type": "code",
   "execution_count": 33,
   "metadata": {},
   "outputs": [],
   "source": [
    "# Convert training and validation data from string to numerical format\n",
    "    \n",
    "def amino_to_num(data_list, amino_codes):\n",
    "    new_data = []\n",
    "    \n",
    "    for seq in data_list:\n",
    "        new_seq = np.array([amino_codes[char] for char in seq])\n",
    "        new_data.append(new_seq)\n",
    "        \n",
    "    return np.array(new_data, dtype=np.object)\n",
    "\n",
    "# Given a list of labels in string format, and a mapping from string to int, convert the given data to numerical format\n",
    "def label_to_num(data, mapping):\n",
    "    new_data = [mapping[label] for label in data]\n",
    "    return np.array(new_data)"
   ]
  },
  {
   "cell_type": "code",
   "execution_count": 34,
   "metadata": {},
   "outputs": [],
   "source": [
    "# Generate training and validation datasets\n",
    "    \n",
    "train_data = []\n",
    "train_label_clade = []\n",
    "train_label_pango = []\n",
    "\n",
    "validation_data = []\n",
    "validation_label_clade = []\n",
    "validation_label_pango = []\n",
    "\n",
    "for (i, (_, value)) in enumerate(metadata_fasta_samples.items()):\n",
    "    if i % 10 == 0:\n",
    "        validation_data.append(value[\"sequence\"])\n",
    "        validation_label_clade.append(value[\"clade\"])\n",
    "        validation_label_pango.append(value[\"pango_lineage\"])\n",
    "    else:\n",
    "        train_data.append(value[\"sequence\"])\n",
    "        train_label_clade.append(value[\"clade\"])\n",
    "        train_label_pango.append(value[\"pango_lineage\"])\n",
    "        \n",
    "train_data_num = amino_to_num(train_data, amino_codes)\n",
    "train_label_clade_num = label_to_num(train_label_clade, clade_codes)\n",
    "train_label_pango_num = label_to_num(train_label_pango, pango_codes)\n",
    "\n",
    "validation_data_num = amino_to_num(validation_data, amino_codes)\n",
    "validation_label_clade_num = label_to_num(validation_label_clade, clade_codes)\n",
    "validation_label_pango_num = label_to_num(validation_label_pango, pango_codes)"
   ]
  },
  {
   "cell_type": "code",
   "execution_count": 35,
   "metadata": {},
   "outputs": [
    {
     "name": "stdout",
     "output_type": "stream",
     "text": [
      "Sample data:  MFVFLVLLPLVSSQCVNLTTRTQLPPAYTNSFTRGVYYPDKVFRSSVLHSTQDLFLPFFSNVTWFHAIHVSGTNGTKRFDNPVLPFNDGVYFASTEKSNIIRGWIFGTTLDSKTQSLLIVNNATNVVIKVCEFQFCNDPFLGVYYHKNNKSWMESEFRVYSSANNCTFEYVSQPFLMDLEGKQGNFKNLREFVFKNIDGYFKIYSKHTPINLVRDLPQGFSALEPLVDLPIGINITRFQTLLALHRSYLTPGDSSSGWXXXXXXXXXXXXXXXXXXXXXXXXXXXXXXXXXXXXXXXXXXXXXXXXXXXXXXXXXXXXXXXPTESIVRFPNITNLCPFGEVFNATRFASVYAWNRKRISNCVADYSVLYNSASFSTFKCYGVSPTKLNDLCFTNVYADSFVIRGDEVRQIAPGQTGKIADYNYKLPDDFTGCVIAWNSNNLDSKVGGNYNYLYRLFRKSNLKPFERDISTEIYQAGSTPCNGVEGFNCYFPLQSYGFQPT\n",
      "\n",
      "Sample data numerical: \n",
      " [11  5 19  5 10 19 10 10 13 10 19 16 16 14  2 19 12 10 17 17 15 17 14 10\n",
      " 13 13  0 22 17 12 16  5 17 15  6 19 22 22 13  3  9 19  5 15 16 16 19 10\n",
      "  7 16 17 14  3 10  5 10 13  5  5 16 12 19 17 20  5  7  0  8  7 19 16  6\n",
      " 17 12  6 17  9 15  5  3 12 13 19 10 13  5 12  3  6 19 22  5  0 16 17  4\n",
      "  9 16 12  8  8 15  6 20  8  5  6 17 17 10  3 16  9 17 14 16 10 10  8 19\n",
      " 12 12  0 17 12 19 19  8  9 19  2  4  5 14  5  2 12  3 13  5 10  6 19 22\n",
      " 22  7  9 12 12  9 16 20 11  4 16  4  5 15 19 22 16 16  0 12 12  2 17  5\n",
      "  4 22 19 16 14 13  5 10 11  3 10  4  6  9 14  6 12  5  9 12 10 15  4  5\n",
      " 19  5  9 12  8  3  6 22  5  9  8 22 16  9  7 17 13  8 12 10 19 15  3 10\n",
      " 13 14  6  5 16  0 10  4 13 10 19  3 10 13  8  6  8 12  8 17 15  5 14 17\n",
      " 10 10  0 10  7 15 16 22 10 17 13  6  3 16 16 16  6 20 21 21 21 21 21 21\n",
      " 21 21 21 21 21 21 21 21 21 21 21 21 21 21 21 21 21 21 21 21 21 21 21 21\n",
      " 21 21 21 21 21 21 21 21 21 21 21 21 21 21 21 21 21 21 21 21 21 21 21 21\n",
      " 21 21 21 21 21 21 21 21 21 13 17  4 16  8 19 15  5 13 12  8 17 12 10  2\n",
      " 13  5  6  4 19  5 12  0 17 15  5  0 16 19 22  0 20 12 15  9 15  8 16 12\n",
      "  2 19  0  3 22 16 19 10 22 12 16  0 16  5 16 17  5  9  2 22  6 19 16 13\n",
      " 17  9 10 12  3 10  2  5 17 12 19 22  0  3 16  5 19  8 15  6  3  4 19 15\n",
      " 14  8  0 13  6 14 17  6  9  8  0  3 22 12 22  9 10 13  3  3  5 17  6  2\n",
      " 19  8  0 20 12 16 12 12 10  3 16  9 19  6  6 12 22 12 22 10 22 15 10  5\n",
      " 15  9 16 12 10  9 13  5  4 15  3  8 16 17  4  8 22 14  0  6 16 17 13  2\n",
      " 12  6 19  4  6  5 12  2 22  5 13 10 14 16 22  6  5 14 13 17]\n",
      "\n",
      "Sample label clade:  G\n",
      "Sample label clade numerical:  0\n",
      "\n",
      "Sample label pango:  B.1\n",
      "Sample label pango numerical:  72\n"
     ]
    }
   ],
   "source": [
    "# Print sample data\n",
    "\n",
    "print(\"Sample data: \", train_data[0][:500])\n",
    "print(\"\\nSample data numerical: \\n\", train_data_num[0][:500])\n",
    "print(\"\\nSample label clade: \", train_label_clade[0])\n",
    "print(\"Sample label clade numerical: \", train_label_clade_num[0])\n",
    "print(\"\\nSample label pango: \", train_label_pango[0])\n",
    "print(\"Sample label pango numerical: \", train_label_pango_num[0])"
   ]
  },
  {
   "cell_type": "code",
   "execution_count": 36,
   "metadata": {},
   "outputs": [],
   "source": [
    "# Save all data to numpy file\n",
    "\n",
    "# np.save(\"data/matched_samples.npy\", matched_samples, allow_pickle=True)\n",
    "# np.save(\"data/fasta_samples.npy\", fasta_samples, allow_pickle=True)\n",
    "# np.save(\"data/metadata_samples.npy\", metadata_samples, allow_pickle=True)\n",
    "# np.save(\"data/timetree_samples.npy\", timetree_samples, allow_pickle=True)\n",
    "\n",
    "np.save(\"data/amino_mapping.npy\", amino_list, allow_pickle=True)\n",
    "np.save(\"data/clade_mapping.npy\", clade_list, allow_pickle=True)\n",
    "np.save(\"data/pango_mapping.npy\", pango_list, allow_pickle=True)\n",
    "\n",
    "np.save(\"data/train_data.npy\", train_data, allow_pickle=True)\n",
    "np.save(\"data/train_data_num.npy\", train_data_num, allow_pickle=True)\n",
    "np.save(\"data/train_label_clade.npy\", train_label_clade, allow_pickle=True)\n",
    "np.save(\"data/train_label_clade_num.npy\", train_label_clade_num, allow_pickle=True)\n",
    "np.save(\"data/train_label_pango.npy\", train_label_pango, allow_pickle=True)\n",
    "np.save(\"data/train_label_pango_num.npy\", train_label_pango_num, allow_pickle=True)\n",
    "\n",
    "np.save(\"data/validation_data.npy\", validation_data, allow_pickle=True)\n",
    "np.save(\"data/validation_data_num.npy\", validation_data_num, allow_pickle=True)\n",
    "np.save(\"data/validation_label_clade.npy\", validation_label_clade, allow_pickle=True)\n",
    "np.save(\"data/validation_label_clade_num.npy\", validation_label_clade_num, allow_pickle=True)\n",
    "np.save(\"data/validation_label_pango.npy\", validation_label_pango, allow_pickle=True)\n",
    "np.save(\"data/validation_label_pango_num.npy\", validation_label_pango_num, allow_pickle=True)"
   ]
  },
  {
   "cell_type": "code",
   "execution_count": null,
   "metadata": {},
   "outputs": [],
   "source": []
  }
 ],
 "metadata": {
  "kernelspec": {
   "display_name": "Python 3",
   "language": "python",
   "name": "python3"
  },
  "language_info": {
   "codemirror_mode": {
    "name": "ipython",
    "version": 3
   },
   "file_extension": ".py",
   "mimetype": "text/x-python",
   "name": "python",
   "nbconvert_exporter": "python",
   "pygments_lexer": "ipython3",
   "version": "3.6.9"
  }
 },
 "nbformat": 4,
 "nbformat_minor": 4
}
