{
  "nbformat": 4,
  "nbformat_minor": 0,
  "metadata": {
    "colab": {
      "name": "sequence_balance.ipynb",
      "provenance": []
    },
    "kernelspec": {
      "name": "python3",
      "display_name": "Python 3"
    },
    "language_info": {
      "name": "python"
    }
  },
  "cells": [
    {
      "cell_type": "code",
      "metadata": {
        "colab": {
          "base_uri": "https://localhost:8080/"
        },
        "id": "D7Ui-V2QWHX8",
        "outputId": "fb7469ea-33a9-4207-e5d0-0864e6c706e7"
      },
      "source": [
        "from google.colab import drive\n",
        "drive.mount('/content/drive')"
      ],
      "execution_count": 1,
      "outputs": [
        {
          "output_type": "stream",
          "text": [
            "Mounted at /content/drive\n"
          ],
          "name": "stdout"
        }
      ]
    },
    {
      "cell_type": "code",
      "metadata": {
        "colab": {
          "base_uri": "https://localhost:8080/"
        },
        "id": "Q6vQ3rywWdHD",
        "outputId": "46aaaec6-0259-4b19-f25f-0fd4ba5e5ffd"
      },
      "source": [
        "% cd /content/drive/MyDrive/project_data"
      ],
      "execution_count": 2,
      "outputs": [
        {
          "output_type": "stream",
          "text": [
            "/content/drive/MyDrive/project_data\n"
          ],
          "name": "stdout"
        }
      ]
    },
    {
      "cell_type": "code",
      "metadata": {
        "colab": {
          "base_uri": "https://localhost:8080/"
        },
        "id": "PY2_UdjbXMQl",
        "outputId": "6dd009f8-8976-4828-f6e1-9ffb353bbeeb"
      },
      "source": [
        "import numpy as np\n",
        "import pandas as pd\n",
        "from imblearn.under_sampling import RandomUnderSampler "
      ],
      "execution_count": 3,
      "outputs": [
        {
          "output_type": "stream",
          "text": [
            "/usr/local/lib/python3.7/dist-packages/sklearn/externals/six.py:31: FutureWarning: The module is deprecated in version 0.21 and will be removed in version 0.23 since we've dropped support for Python 2.7. Please rely on the official version of six (https://pypi.org/project/six/).\n",
            "  \"(https://pypi.org/project/six/).\", FutureWarning)\n",
            "/usr/local/lib/python3.7/dist-packages/sklearn/utils/deprecation.py:144: FutureWarning: The sklearn.neighbors.base module is  deprecated in version 0.22 and will be removed in version 0.24. The corresponding classes / functions should instead be imported from sklearn.neighbors. Anything that cannot be imported from sklearn.neighbors is now part of the private API.\n",
            "  warnings.warn(message, FutureWarning)\n"
          ],
          "name": "stderr"
        }
      ]
    },
    {
      "cell_type": "code",
      "metadata": {
        "id": "5-033eg_Wn_V"
      },
      "source": [
        "# load data\n",
        "train_data = np.load('train_data_num.npy', allow_pickle=True)\n",
        "dev_data = np.load('validation_data_num.npy', allow_pickle=True)\n",
        "train_label = np.load('train_label_clade_num.npy', allow_pickle=True)\n",
        "dev_label = np.load('validation_label_clade_num.npy', allow_pickle=True)"
      ],
      "execution_count": 4,
      "outputs": []
    },
    {
      "cell_type": "code",
      "metadata": {
        "colab": {
          "base_uri": "https://localhost:8080/"
        },
        "id": "pAzLTLYlngui",
        "outputId": "d59f4b3e-18ce-4a36-8410-5932538480b4"
      },
      "source": [
        "# train label imbalance\n",
        "df = pd.DataFrame({'data': train_data, 'label': train_label})\n",
        "df['label'].value_counts()"
      ],
      "execution_count": 63,
      "outputs": [
        {
          "output_type": "execute_result",
          "data": {
            "text/plain": [
              "1    147661\n",
              "2    138280\n",
              "3    115324\n",
              "4    114594\n",
              "0     88610\n",
              "7      8837\n",
              "6      6957\n",
              "8      5695\n",
              "5      4826\n",
              "Name: label, dtype: int64"
            ]
          },
          "metadata": {
            "tags": []
          },
          "execution_count": 63
        }
      ]
    },
    {
      "cell_type": "code",
      "metadata": {
        "id": "bEtLTMrjmztT"
      },
      "source": [
        "# index of training data\n",
        "data_index = [i for i in range(len(train_data))]\n",
        "dev_data_index = [i for i in range(len(dev_data))]"
      ],
      "execution_count": 82,
      "outputs": []
    },
    {
      "cell_type": "code",
      "metadata": {
        "colab": {
          "base_uri": "https://localhost:8080/"
        },
        "id": "9cgbhgELgDJt",
        "outputId": "afa075a7-c601-457d-b931-caeb52ecf29b"
      },
      "source": [
        "# under sampling\n",
        "rus = RandomUnderSampler(random_state=42)\n",
        "X_res, y_res = rus.fit_resample(np.array(data_index).reshape(-1,1), train_label)\n",
        "X_res_dev, y_res_dev =  rus.fit_resample(np.array(dev_data_index).reshape(-1,1), dev_label)"
      ],
      "execution_count": 83,
      "outputs": [
        {
          "output_type": "stream",
          "text": [
            "/usr/local/lib/python3.7/dist-packages/sklearn/utils/deprecation.py:87: FutureWarning: Function safe_indexing is deprecated; safe_indexing is deprecated in version 0.22 and will be removed in version 0.24.\n",
            "  warnings.warn(msg, category=FutureWarning)\n",
            "/usr/local/lib/python3.7/dist-packages/sklearn/utils/deprecation.py:87: FutureWarning: Function safe_indexing is deprecated; safe_indexing is deprecated in version 0.22 and will be removed in version 0.24.\n",
            "  warnings.warn(msg, category=FutureWarning)\n"
          ],
          "name": "stderr"
        }
      ]
    },
    {
      "cell_type": "code",
      "metadata": {
        "id": "V_krxXPFhSrA",
        "colab": {
          "base_uri": "https://localhost:8080/"
        },
        "outputId": "1490a3c9-c13d-43ad-a9c5-3e2958c707c7"
      },
      "source": [
        "print('train data index and label length after balanced downsampling: ', len(X_res), len(y_res))\n",
        "print('dev data index and label length after balanced downsampling: ', len(X_res_dev), len(y_res_dev))"
      ],
      "execution_count": 84,
      "outputs": [
        {
          "output_type": "stream",
          "text": [
            "train data index and label length after balanced downsampling:  43434 43434\n",
            "dev data index and label length after balanced downsampling:  4842 4842\n"
          ],
          "name": "stdout"
        }
      ]
    },
    {
      "cell_type": "code",
      "metadata": {
        "colab": {
          "base_uri": "https://localhost:8080/"
        },
        "id": "3DPRrWz7nHRc",
        "outputId": "0b33e487-fe70-4ff8-ced4-9142d421aa31"
      },
      "source": [
        "new_train = train_data[X_res].squeeze(axis = 1)\n",
        "new_dev = dev_data[X_res_dev].squeeze(axis = 1)\n",
        "print('train data after balanced down sampling: ',new_train.shape )\n",
        "print('dev data after balanced down sampling: ',new_dev.shape )"
      ],
      "execution_count": 100,
      "outputs": [
        {
          "output_type": "stream",
          "text": [
            "train data after balanced down sampling:  (43434,)\n",
            "dev data after balanced down sampling:  (4842,)\n"
          ],
          "name": "stdout"
        }
      ]
    },
    {
      "cell_type": "code",
      "metadata": {
        "id": "fq62V2vtp6Km"
      },
      "source": [
        "np.save(\"train_data_balanced.npy\", new_train, allow_pickle=True)\n",
        "np.save(\"train_label_balanced.npy\", y_res, allow_pickle=True)\n",
        "np.save(\"validation_data_balanced.npy\", new_dev, allow_pickle=True)\n",
        "np.save(\"validation_label_balanced.npy\", y_res_dev, allow_pickle=True)"
      ],
      "execution_count": 101,
      "outputs": []
    },
    {
      "cell_type": "code",
      "metadata": {
        "id": "PiaY5hUjr4Lg"
      },
      "source": [
        ""
      ],
      "execution_count": null,
      "outputs": []
    }
  ]
}